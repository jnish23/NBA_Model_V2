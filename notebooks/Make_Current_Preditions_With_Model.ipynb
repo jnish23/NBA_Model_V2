{
 "cells": [
  {
   "cell_type": "code",
   "execution_count": 1,
   "id": "occupied-sunset",
   "metadata": {},
   "outputs": [],
   "source": [
    "import sys\n",
    "\n",
    "%load_ext autoreload\n",
    "%autoreload 2\n",
    "\n",
    "sys.path.append(\"..\")\n",
    "\n",
    "from src.make_predictions import *\n",
    "from src.data.process_data import *\n",
    "\n",
    "import sqlite3\n",
    "import joblib\n",
    "import pandas as pd"
   ]
  },
  {
   "cell_type": "code",
   "execution_count": 2,
   "id": "persistent-amino",
   "metadata": {},
   "outputs": [],
   "source": [
    "final_stacked_model = joblib.load('../models/finalized_stacked_model')\n",
    "\n",
    "prev_season_elo = pd.read_csv(\"../data/clean/final_elo_ratings_2020.csv\")"
   ]
  },
  {
   "cell_type": "code",
   "execution_count": 3,
   "id": "appreciated-eugene",
   "metadata": {},
   "outputs": [],
   "source": [
    "connection = sqlite3.connect('../data/nba.db')\n",
    "\n",
    "df = load_current_season_team_data(connection, 2021)\n",
    "\n"
   ]
  },
  {
   "cell_type": "code",
   "execution_count": 4,
   "id": "turkish-exchange",
   "metadata": {},
   "outputs": [
    {
     "name": "stderr",
     "output_type": "stream",
     "text": [
      "Progress: 100%|██████████████████████████████████████████████████████████████████████████| 1/1 [00:00<00:00,  1.87it/s]\n",
      "progress:: 2622it [00:00, 6936.75it/s]\n"
     ]
    },
    {
     "name": "stdout",
     "output_type": "stream",
     "text": [
      "nulls: 0\n"
     ]
    },
    {
     "data": {
      "text/html": [
       "<div>\n",
       "<style scoped>\n",
       "    .dataframe tbody tr th:only-of-type {\n",
       "        vertical-align: middle;\n",
       "    }\n",
       "\n",
       "    .dataframe tbody tr th {\n",
       "        vertical-align: top;\n",
       "    }\n",
       "\n",
       "    .dataframe thead th {\n",
       "        text-align: right;\n",
       "    }\n",
       "</style>\n",
       "<table border=\"1\" class=\"dataframe\">\n",
       "  <thead>\n",
       "    <tr style=\"text-align: right;\">\n",
       "      <th></th>\n",
       "      <th>RECORD_team_diff</th>\n",
       "      <th>FG2M_team_diff</th>\n",
       "      <th>FG2A_team_diff</th>\n",
       "      <th>FG3M_team_diff</th>\n",
       "      <th>FG3A_team_diff</th>\n",
       "      <th>FTM_team_diff</th>\n",
       "      <th>FTA_team_diff</th>\n",
       "      <th>OREB_team_diff</th>\n",
       "      <th>DREB_team_diff</th>\n",
       "      <th>REB_team_diff</th>\n",
       "      <th>...</th>\n",
       "      <th>AST_RATIO_team_diff</th>\n",
       "      <th>AST_RATIO_opp_diff</th>\n",
       "      <th>TOV_PCT_team_diff</th>\n",
       "      <th>TOV_PCT_opp_diff</th>\n",
       "      <th>team_elo_pred</th>\n",
       "      <th>team_rating_i</th>\n",
       "      <th>opp_rating_i</th>\n",
       "      <th>elo_MOV_pred</th>\n",
       "      <th>SPREAD_team</th>\n",
       "      <th>ML_team</th>\n",
       "    </tr>\n",
       "  </thead>\n",
       "  <tbody>\n",
       "    <tr>\n",
       "      <th>0</th>\n",
       "      <td>-0.028741</td>\n",
       "      <td>-1.471485</td>\n",
       "      <td>-5.259264</td>\n",
       "      <td>-2.161367</td>\n",
       "      <td>-2.253147</td>\n",
       "      <td>2.512718</td>\n",
       "      <td>2.260074</td>\n",
       "      <td>-1.089905</td>\n",
       "      <td>-2.163115</td>\n",
       "      <td>-3.253019</td>\n",
       "      <td>...</td>\n",
       "      <td>-1.79605</td>\n",
       "      <td>-1.822412</td>\n",
       "      <td>2.287318</td>\n",
       "      <td>0.247589</td>\n",
       "      <td>0.731181</td>\n",
       "      <td>1633.149039</td>\n",
       "      <td>1528.322706</td>\n",
       "      <td>6.21</td>\n",
       "      <td>-5.0</td>\n",
       "      <td>1.51</td>\n",
       "    </tr>\n",
       "    <tr>\n",
       "      <th>1</th>\n",
       "      <td>0.028741</td>\n",
       "      <td>1.471485</td>\n",
       "      <td>5.259264</td>\n",
       "      <td>2.161367</td>\n",
       "      <td>2.253147</td>\n",
       "      <td>-2.512718</td>\n",
       "      <td>-2.260074</td>\n",
       "      <td>1.089905</td>\n",
       "      <td>2.163115</td>\n",
       "      <td>3.253019</td>\n",
       "      <td>...</td>\n",
       "      <td>1.79605</td>\n",
       "      <td>1.822412</td>\n",
       "      <td>-2.287318</td>\n",
       "      <td>-0.247589</td>\n",
       "      <td>0.268819</td>\n",
       "      <td>1528.322706</td>\n",
       "      <td>1633.149039</td>\n",
       "      <td>-6.21</td>\n",
       "      <td>5.0</td>\n",
       "      <td>2.70</td>\n",
       "    </tr>\n",
       "  </tbody>\n",
       "</table>\n",
       "<p>2 rows × 89 columns</p>\n",
       "</div>"
      ],
      "text/plain": [
       "   RECORD_team_diff  FG2M_team_diff  FG2A_team_diff  FG3M_team_diff  \\\n",
       "0         -0.028741       -1.471485       -5.259264       -2.161367   \n",
       "1          0.028741        1.471485        5.259264        2.161367   \n",
       "\n",
       "   FG3A_team_diff  FTM_team_diff  FTA_team_diff  OREB_team_diff  \\\n",
       "0       -2.253147       2.512718       2.260074       -1.089905   \n",
       "1        2.253147      -2.512718      -2.260074        1.089905   \n",
       "\n",
       "   DREB_team_diff  REB_team_diff  ...  AST_RATIO_team_diff  \\\n",
       "0       -2.163115      -3.253019  ...             -1.79605   \n",
       "1        2.163115       3.253019  ...              1.79605   \n",
       "\n",
       "   AST_RATIO_opp_diff  TOV_PCT_team_diff  TOV_PCT_opp_diff  team_elo_pred  \\\n",
       "0           -1.822412           2.287318          0.247589       0.731181   \n",
       "1            1.822412          -2.287318         -0.247589       0.268819   \n",
       "\n",
       "   team_rating_i  opp_rating_i  elo_MOV_pred  SPREAD_team  ML_team  \n",
       "0    1633.149039   1528.322706          6.21         -5.0     1.51  \n",
       "1    1528.322706   1633.149039         -6.21          5.0     2.70  \n",
       "\n",
       "[2 rows x 89 columns]"
      ]
     },
     "execution_count": 4,
     "metadata": {},
     "output_type": "execute_result"
    }
   ],
   "source": [
    "home_team = 'PHI'\n",
    "away_team = 'LAC'\n",
    "home_spread = -5\n",
    "away_spread = -home_spread\n",
    "home_ml = 1.51\n",
    "away_ml = 2.7\n",
    "\n",
    "conn = sqlite3.connect('../data/nba.db')\n",
    "season = 2021\n",
    "\n",
    "df = load_current_season_team_data(conn, season)\n",
    "\n",
    "df = clean_team_data(df)\n",
    "\n",
    "df = prep_for_aggregation(df)\n",
    "\n",
    "spreads, moneylines = load_current_season_betting_data(conn, 2021)\n",
    "clean_moneylines = clean_moneyline_df(df = moneylines)\n",
    "clean_spreads = clean_spreads_df(df = spreads)\n",
    "\n",
    "full_df = merge_betting_and_boxscore_data(clean_spreads, clean_moneylines, df)\n",
    "full_df = create_matchups(full_df)\n",
    "full_df = get_team_and_opp_ewm(full_df, min_periods=1, alpha=0.1)\n",
    "\n",
    "full_df = add_percentage_features(full_df)\n",
    "full_df = add_rest_days_for_model(full_df)\n",
    "\n",
    "current_elo, full_df = get_current_season_elo_ratings(full_df, prev_season_elo)\n",
    "\n",
    "matchup = create_matchup_rows_for_model(full_df, home_team, away_team,\n",
    "                                                home_spread, away_spread, home_ml, away_ml)\n",
    "\n",
    "print(\"nulls:\", matchup.isnull().sum().sum())\n",
    "matchup"
   ]
  },
  {
   "cell_type": "code",
   "execution_count": 5,
   "id": "43644f96",
   "metadata": {},
   "outputs": [
    {
     "data": {
      "text/plain": [
       "SEASON             0\n",
       "GM_DATE            0\n",
       "HOME_TEAM          0\n",
       "AWAY_TEAM          0\n",
       "AWAY_SCOREBOARD    0\n",
       "HOME_SCOREBOARD    0\n",
       "AWAY_SPREAD        0\n",
       "HOME_SPREAD        0\n",
       "dtype: int64"
      ]
     },
     "execution_count": 5,
     "metadata": {},
     "output_type": "execute_result"
    }
   ],
   "source": [
    "spreads.isnull().sum()"
   ]
  },
  {
   "cell_type": "code",
   "execution_count": 6,
   "id": "acute-climb",
   "metadata": {},
   "outputs": [
    {
     "name": "stderr",
     "output_type": "stream",
     "text": [
      "progress: 100%|██████████████████████████████████████████████████████████████████████████| 2/2 [00:23<00:00, 11.50s/it]\n",
      "Progress: 100%|██████████████████████████████████████████████████████████████████████████| 1/1 [00:00<00:00,  1.93it/s]\n",
      "progress:: 2624it [00:00, 7454.55it/s]\n"
     ]
    },
    {
     "data": {
      "text/html": [
       "<div>\n",
       "<style scoped>\n",
       "    .dataframe tbody tr th:only-of-type {\n",
       "        vertical-align: middle;\n",
       "    }\n",
       "\n",
       "    .dataframe tbody tr th {\n",
       "        vertical-align: top;\n",
       "    }\n",
       "\n",
       "    .dataframe thead th {\n",
       "        text-align: right;\n",
       "    }\n",
       "</style>\n",
       "<table border=\"1\" class=\"dataframe\">\n",
       "  <thead>\n",
       "    <tr style=\"text-align: right;\">\n",
       "      <th></th>\n",
       "      <th>game_date</th>\n",
       "      <th>home_team</th>\n",
       "      <th>away_team</th>\n",
       "      <th>home_spread</th>\n",
       "      <th>home_cover_probs</th>\n",
       "      <th>away_cover_probs</th>\n",
       "      <th>home_cover_avg</th>\n",
       "    </tr>\n",
       "  </thead>\n",
       "  <tbody>\n",
       "    <tr>\n",
       "      <th>0</th>\n",
       "      <td>2022-06-03</td>\n",
       "      <td>GSW</td>\n",
       "      <td>BOS</td>\n",
       "      <td>-4.0</td>\n",
       "      <td>0.490438</td>\n",
       "      <td>0.511213</td>\n",
       "      <td>0.489612</td>\n",
       "    </tr>\n",
       "  </tbody>\n",
       "</table>\n",
       "</div>"
      ],
      "text/plain": [
       "    game_date home_team away_team  home_spread  home_cover_probs  \\\n",
       "0  2022-06-03       GSW       BOS         -4.0          0.490438   \n",
       "\n",
       "   away_cover_probs  home_cover_avg  \n",
       "0          0.511213        0.489612  "
      ]
     },
     "execution_count": 6,
     "metadata": {},
     "output_type": "execute_result"
    }
   ],
   "source": [
    "connection = sqlite3.connect('../data/nba.db')\n",
    "\n",
    "\n",
    "main(connection, 2021, final_stacked_model, prev_season_elo, append=True)"
   ]
  },
  {
   "cell_type": "code",
   "execution_count": 7,
   "id": "relative-glossary",
   "metadata": {},
   "outputs": [
    {
     "name": "stderr",
     "output_type": "stream",
     "text": [
      "progress: 100%|██████████████████████████████████████████████████████████████████████████| 1/1 [00:11<00:00, 11.90s/it]\n",
      "Progress: 100%|██████████████████████████████████████████████████████████████████████████| 1/1 [00:00<00:00,  1.94it/s]\n",
      "progress:: 2624it [00:00, 7476.02it/s]\n"
     ]
    },
    {
     "data": {
      "text/html": [
       "<div>\n",
       "<style scoped>\n",
       "    .dataframe tbody tr th:only-of-type {\n",
       "        vertical-align: middle;\n",
       "    }\n",
       "\n",
       "    .dataframe tbody tr th {\n",
       "        vertical-align: top;\n",
       "    }\n",
       "\n",
       "    .dataframe thead th {\n",
       "        text-align: right;\n",
       "    }\n",
       "</style>\n",
       "<table border=\"1\" class=\"dataframe\">\n",
       "  <thead>\n",
       "    <tr style=\"text-align: right;\">\n",
       "      <th></th>\n",
       "      <th>game_date</th>\n",
       "      <th>home_team</th>\n",
       "      <th>away_team</th>\n",
       "      <th>home_spread</th>\n",
       "      <th>home_cover_probs</th>\n",
       "      <th>away_cover_probs</th>\n",
       "      <th>home_cover_avg</th>\n",
       "    </tr>\n",
       "  </thead>\n",
       "  <tbody>\n",
       "    <tr>\n",
       "      <th>0</th>\n",
       "      <td>2022-06-03</td>\n",
       "      <td>GSW</td>\n",
       "      <td>BOS</td>\n",
       "      <td>-4.0</td>\n",
       "      <td>0.494127</td>\n",
       "      <td>0.519424</td>\n",
       "      <td>0.487352</td>\n",
       "    </tr>\n",
       "  </tbody>\n",
       "</table>\n",
       "</div>"
      ],
      "text/plain": [
       "    game_date home_team away_team  home_spread  home_cover_probs  \\\n",
       "0  2022-06-03       GSW       BOS         -4.0          0.494127   \n",
       "\n",
       "   away_cover_probs  home_cover_avg  \n",
       "0          0.519424        0.487352  "
      ]
     },
     "execution_count": 7,
     "metadata": {},
     "output_type": "execute_result"
    }
   ],
   "source": [
    "final_stacked_model_sfs = joblib.load('../models/finalized_stacked_model_retrain-21-12-20')\n",
    "\n",
    "connection = sqlite3.connect('../data/nba.db')\n",
    "\n",
    "\n",
    "main(connection, 2021, final_stacked_model_sfs, prev_season_elo, append=False)\n"
   ]
  },
  {
   "cell_type": "code",
   "execution_count": 8,
   "id": "latter-bachelor",
   "metadata": {},
   "outputs": [
    {
     "name": "stderr",
     "output_type": "stream",
     "text": [
      "progress: 100%|██████████████████████████████████████████████████████████████████████████| 1/1 [00:10<00:00, 10.28s/it]\n",
      "Progress: 100%|██████████████████████████████████████████████████████████████████████████| 1/1 [00:00<00:00,  1.93it/s]\n",
      "progress:: 2624it [00:00, 7476.22it/s]\n"
     ]
    },
    {
     "data": {
      "text/html": [
       "<div>\n",
       "<style scoped>\n",
       "    .dataframe tbody tr th:only-of-type {\n",
       "        vertical-align: middle;\n",
       "    }\n",
       "\n",
       "    .dataframe tbody tr th {\n",
       "        vertical-align: top;\n",
       "    }\n",
       "\n",
       "    .dataframe thead th {\n",
       "        text-align: right;\n",
       "    }\n",
       "</style>\n",
       "<table border=\"1\" class=\"dataframe\">\n",
       "  <thead>\n",
       "    <tr style=\"text-align: right;\">\n",
       "      <th></th>\n",
       "      <th>game_date</th>\n",
       "      <th>home_team</th>\n",
       "      <th>away_team</th>\n",
       "      <th>home_spread</th>\n",
       "      <th>home_cover_probs</th>\n",
       "      <th>away_cover_probs</th>\n",
       "      <th>home_cover_avg</th>\n",
       "    </tr>\n",
       "  </thead>\n",
       "  <tbody>\n",
       "    <tr>\n",
       "      <th>0</th>\n",
       "      <td>2022-06-03</td>\n",
       "      <td>GSW</td>\n",
       "      <td>BOS</td>\n",
       "      <td>-4.0</td>\n",
       "      <td>0.485299</td>\n",
       "      <td>0.521643</td>\n",
       "      <td>0.481828</td>\n",
       "    </tr>\n",
       "  </tbody>\n",
       "</table>\n",
       "</div>"
      ],
      "text/plain": [
       "    game_date home_team away_team  home_spread  home_cover_probs  \\\n",
       "0  2022-06-03       GSW       BOS         -4.0          0.485299   \n",
       "\n",
       "   away_cover_probs  home_cover_avg  \n",
       "0          0.521643        0.481828  "
      ]
     },
     "execution_count": 8,
     "metadata": {},
     "output_type": "execute_result"
    }
   ],
   "source": [
    "final_stacked_model_v2 = joblib.load('../models/final_stacked_clf_v2-21-12-20')\n",
    "\n",
    "connection = sqlite3.connect('../data/nba.db')\n",
    "\n",
    "main(connection, 2021, final_stacked_model_v2, prev_season_elo, append=False)\n"
   ]
  },
  {
   "cell_type": "code",
   "execution_count": null,
   "id": "greater-greece",
   "metadata": {},
   "outputs": [],
   "source": []
  }
 ],
 "metadata": {
  "kernelspec": {
   "display_name": "Python 3 (ipykernel)",
   "language": "python",
   "name": "python3"
  },
  "language_info": {
   "codemirror_mode": {
    "name": "ipython",
    "version": 3
   },
   "file_extension": ".py",
   "mimetype": "text/x-python",
   "name": "python",
   "nbconvert_exporter": "python",
   "pygments_lexer": "ipython3",
   "version": "3.7.4"
  },
  "toc": {
   "base_numbering": 1,
   "nav_menu": {},
   "number_sections": true,
   "sideBar": true,
   "skip_h1_title": false,
   "title_cell": "Table of Contents",
   "title_sidebar": "Contents",
   "toc_cell": false,
   "toc_position": {},
   "toc_section_display": true,
   "toc_window_display": false
  }
 },
 "nbformat": 4,
 "nbformat_minor": 5
}
