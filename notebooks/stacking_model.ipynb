{
 "cells": [
  {
   "cell_type": "code",
   "execution_count": 40,
   "metadata": {},
   "outputs": [],
   "source": [
    "\n",
    "import joblib\n",
    "import lightgbm as lgb\n",
    "import numpy as np\n",
    "from sklearn.linear_model import SGDRegressor\n",
    "import optuna\n",
    "import pandas as pd\n",
    "from pathlib import Path\n",
    "from sklearn.model_selection import cross_val_score\n",
    "from sklearn.multioutput import MultiOutputRegressor\n",
    "from sklearn.ensemble import StackingRegressor\n",
    "from sklearn.pipeline import Pipeline\n",
    "from sklearn.preprocessing import StandardScaler \n",
    "from sklearn.metrics import mean_absolute_error\n",
    "from sklearn.linear_model import LinearRegression, LogisticRegression\n",
    "from sklearn.linear_model import SGDClassifier\n",
    "import sqlite3\n"
   ]
  },
  {
   "cell_type": "code",
   "execution_count": 41,
   "metadata": {},
   "outputs": [],
   "source": [
    "def season_to_string(x):\n",
    "    return str(x) + '-' + str(x+1)[-2:]\n",
    "\n",
    "def get_data_from_db(target, db_filepath, test_season):\n",
    "    \n",
    "        \n",
    "    test_season_str = season_to_string(test_season)\n",
    "    \n",
    "    connection = sqlite3.connect(db_filepath)\n",
    "\n",
    "    df = pd.read_sql('SELECT * FROM team_stats_ewa_matchup', con=connection)\n",
    "    df = df.drop(columns=['index'])\n",
    "    connection.close()\n",
    "\n",
    "    df = df.sort_values('GAME_DATE')\n",
    "\n",
    "    df = df.dropna()\n",
    "\n",
    "    columns_to_drop = ['SEASON', 'HOME_TEAM_ABBREVIATION', 'GAME_DATE', 'GAME_ID', 'MATCHUP',\n",
    "                        'HOME_HOME_GAME', 'HOME_TEAM_SCORE', 'HOME_ML', 'HOME_SPREAD',\n",
    "                        'HOME_ATS_DIFF', 'HOME_TEAM_COVERED', 'HOME_POINT_DIFF',\n",
    "                        'HOME_WL', 'AWAY_ML', 'AWAY_TEAM_SCORE',\n",
    "                        'HOME_PTS_L5', 'HOME_PTS_L10', 'HOME_PTS_L20',\n",
    "                        'HOME_PLUS_MINUS_L5', 'HOME_PLUS_MINUS_L10', 'HOME_PLUS_MINUS_L20',\n",
    "                        'HOME_NET_RATING_L5', 'HOME_NET_RATING_L10', 'HOME_NET_RATING_L20',\n",
    "                        'HOME_POSS_L5', 'HOME_POSS_L10', 'HOME_POSS_L20',\n",
    "                        'HOME_PTS_opp_L5', 'HOME_PTS_opp_L10', 'HOME_PTS_opp_L20',\n",
    "                        'HOME_PLUS_MINUS_opp_L5', 'HOME_PLUS_MINUS_opp_L10', 'HOME_PLUS_MINUS_opp_L20',\n",
    "                        'HOME_NET_RATING_opp_L5', 'HOME_NET_RATING_opp_L10', 'HOME_NET_RATING_opp_L20',\n",
    "                        'HOME_POSS_opp_L5', 'HOME_POSS_opp_L10', 'HOME_POSS_opp_L20',\n",
    "                        'HOME_REB_L5', 'HOME_REB_L10', 'HOME_REB_L20',  \n",
    "                        'HOME_REB_opp_L5', 'HOME_REB_opp_L10', 'HOME_REB_opp_L20',       \n",
    "                        'AWAY_PTS_L5', 'AWAY_PTS_L10', 'AWAY_PTS_L20',\n",
    "                        'AWAY_PLUS_MINUS_L5', 'AWAY_PLUS_MINUS_L10', 'AWAY_PLUS_MINUS_L20',\n",
    "                        'AWAY_NET_RATING_L5', 'AWAY_NET_RATING_L10', 'AWAY_NET_RATING_L20',\n",
    "                        'AWAY_POSS_L5', 'AWAY_POSS_L10', 'AWAY_POSS_L20',\n",
    "                        'AWAY_PTS_opp_L5', 'AWAY_PTS_opp_L10', 'AWAY_PTS_opp_L20',\n",
    "                        'AWAY_PLUS_MINUS_opp_L5', 'AWAY_PLUS_MINUS_opp_L10', 'AWAY_PLUS_MINUS_opp_L20',\n",
    "                        'AWAY_NET_RATING_opp_L5', 'AWAY_NET_RATING_opp_L10', 'AWAY_NET_RATING_opp_L20',\n",
    "                        'AWAY_POSS_opp_L5', 'AWAY_POSS_opp_L10', 'AWAY_POSS_opp_L20',\n",
    "                        'AWAY_REB_L5', 'AWAY_REB_L10', 'AWAY_REB_L20',\n",
    "                        'AWAY_REB_opp_L5', 'AWAY_REB_opp_L10', 'AWAY_REB_opp_L20']\n",
    "\n",
    "    train_df = df.loc[df['SEASON'] < test_season_str]\n",
    "    test_df = df.loc[df['SEASON'] >= test_season_str]\n",
    "\n",
    "    X_train = train_df.drop(columns=columns_to_drop)\n",
    "    y_train = train_df[target]\n",
    "\n",
    "    X_test = test_df.drop(columns=columns_to_drop)\n",
    "    y_test = test_df[target]\n",
    "    \n",
    "    return X_train, X_test, y_train, y_test, train_df, test_df\n",
    "    \n",
    "    \n",
    "def tscv_by_season(train_df, test_season = 2021):\n",
    "    earliest_year_with_data = 2013\n",
    "    min_training_years = 3\n",
    "\n",
    "    cv_splits = []\n",
    " \n",
    "    for year in range(earliest_year_with_data + min_training_years, test_season):      \n",
    "        listTrain = train_df.loc[train_df['SEASON'] < season_to_string(year)].index\n",
    "        listVal = train_df.loc[train_df['SEASON'] == season_to_string(year)].index        \n",
    "        cv_splits.append((listTrain, listVal))\n",
    "\n",
    "    return cv_splits      \n",
    "\n",
    "\n"
   ]
  },
  {
   "cell_type": "code",
   "execution_count": 55,
   "metadata": {},
   "outputs": [],
   "source": [
    "db_filepath = Path.home().joinpath('NBA_model_v1', 'data', 'nba.db')\n",
    "hyperparameter_filepath_out = Path.home().joinpath('NBA_model_v1', 'models', 'hyperparameter_tuning')\n",
    "\n",
    "connection = sqlite3.connect(db_filepath)\n",
    "X_train, X_test, y_train, y_test, train_df, test_df = get_data_from_db(target='HOME_WL', db_filepath=db_filepath, test_season=2021)\n",
    "connection.close()\n",
    "\n",
    "cv_splits = tscv_by_season(train_df, test_season = 2021)\n",
    "\n",
    "\n",
    "study_name = str(Path.home().joinpath('NBA_model_v1', 'models', 'hyperparameter_tuning', 'LGBMClassifier'))\n",
    "storage_name = \"sqlite:///{}.db\".format(study_name)\n",
    "study = optuna.load_study(study_name = study_name, \n",
    "                            storage = storage_name)\n",
    "\n",
    "params = study.best_params\n",
    "lgbc = lgb.LGBMClassifier(**params)\n",
    "\n",
    "study_name = str(Path.home().joinpath('NBA_model_v1', 'models', 'hyperparameter_tuning', 'SGDClassifierHinge_WinPredictor'))\n",
    "storage_name = \"sqlite:///{}.db\".format(study_name)\n",
    "study = optuna.load_study(study_name = study_name, \n",
    "                            storage = storage_name)\n",
    "\n",
    "params = study.best_params\n",
    "sgd_hinge = Pipeline([('scaler', StandardScaler()),\n",
    "                ('sgd', SGDClassifier(**params,\n",
    "                        shuffle=False,\n",
    "                        random_state=23))])          \n",
    "   \n",
    "study_name = str(Path.home().joinpath('NBA_model_v1', 'models', 'hyperparameter_tuning', 'SGDClassifierLogLoss_WinPredictor'))\n",
    "storage_name = \"sqlite:///{}.db\".format(study_name)\n",
    "study = optuna.load_study(study_name = study_name, \n",
    "                            storage = storage_name)\n",
    "\n",
    "params = study.best_params\n",
    "sgd_logloss = Pipeline([('scaler', StandardScaler()),\n",
    "                ('sgd', SGDClassifier(**params,\n",
    "                                      loss='log_loss',\n",
    "                                        shuffle=False,\n",
    "                                        random_state=23))])             \n"
   ]
  },
  {
   "cell_type": "code",
   "execution_count": 56,
   "metadata": {},
   "outputs": [],
   "source": [
    "\n",
    "## implement cross-val-prediction\n",
    "cross_val_predict = np.row_stack([\n",
    "    np.column_stack([\n",
    "        lgbc.fit(X_train.iloc[id_train], y_train.iloc[id_train]).predict_proba(X_train.iloc[id_test]),\n",
    "        sgd_hinge.fit(X_train.iloc[id_train], y_train.iloc[id_train]).decision_function(X_train.iloc[id_test]),\n",
    "        sgd_logloss.fit(X_train.iloc[id_train], y_train.iloc[id_train]).predict_proba(X_train.iloc[id_test]),\n",
    "\n",
    "        y_train.iloc[id_test].values\n",
    "    ])\n",
    "    for id_train, id_test in cv_splits\n",
    "])\n",
    "\n"
   ]
  },
  {
   "cell_type": "code",
   "execution_count": 57,
   "metadata": {},
   "outputs": [
    {
     "data": {
      "text/html": [
       "<style>#sk-container-id-6 {color: black;background-color: white;}#sk-container-id-6 pre{padding: 0;}#sk-container-id-6 div.sk-toggleable {background-color: white;}#sk-container-id-6 label.sk-toggleable__label {cursor: pointer;display: block;width: 100%;margin-bottom: 0;padding: 0.3em;box-sizing: border-box;text-align: center;}#sk-container-id-6 label.sk-toggleable__label-arrow:before {content: \"▸\";float: left;margin-right: 0.25em;color: #696969;}#sk-container-id-6 label.sk-toggleable__label-arrow:hover:before {color: black;}#sk-container-id-6 div.sk-estimator:hover label.sk-toggleable__label-arrow:before {color: black;}#sk-container-id-6 div.sk-toggleable__content {max-height: 0;max-width: 0;overflow: hidden;text-align: left;background-color: #f0f8ff;}#sk-container-id-6 div.sk-toggleable__content pre {margin: 0.2em;color: black;border-radius: 0.25em;background-color: #f0f8ff;}#sk-container-id-6 input.sk-toggleable__control:checked~div.sk-toggleable__content {max-height: 200px;max-width: 100%;overflow: auto;}#sk-container-id-6 input.sk-toggleable__control:checked~label.sk-toggleable__label-arrow:before {content: \"▾\";}#sk-container-id-6 div.sk-estimator input.sk-toggleable__control:checked~label.sk-toggleable__label {background-color: #d4ebff;}#sk-container-id-6 div.sk-label input.sk-toggleable__control:checked~label.sk-toggleable__label {background-color: #d4ebff;}#sk-container-id-6 input.sk-hidden--visually {border: 0;clip: rect(1px 1px 1px 1px);clip: rect(1px, 1px, 1px, 1px);height: 1px;margin: -1px;overflow: hidden;padding: 0;position: absolute;width: 1px;}#sk-container-id-6 div.sk-estimator {font-family: monospace;background-color: #f0f8ff;border: 1px dotted black;border-radius: 0.25em;box-sizing: border-box;margin-bottom: 0.5em;}#sk-container-id-6 div.sk-estimator:hover {background-color: #d4ebff;}#sk-container-id-6 div.sk-parallel-item::after {content: \"\";width: 100%;border-bottom: 1px solid gray;flex-grow: 1;}#sk-container-id-6 div.sk-label:hover label.sk-toggleable__label {background-color: #d4ebff;}#sk-container-id-6 div.sk-serial::before {content: \"\";position: absolute;border-left: 1px solid gray;box-sizing: border-box;top: 0;bottom: 0;left: 50%;z-index: 0;}#sk-container-id-6 div.sk-serial {display: flex;flex-direction: column;align-items: center;background-color: white;padding-right: 0.2em;padding-left: 0.2em;position: relative;}#sk-container-id-6 div.sk-item {position: relative;z-index: 1;}#sk-container-id-6 div.sk-parallel {display: flex;align-items: stretch;justify-content: center;background-color: white;position: relative;}#sk-container-id-6 div.sk-item::before, #sk-container-id-6 div.sk-parallel-item::before {content: \"\";position: absolute;border-left: 1px solid gray;box-sizing: border-box;top: 0;bottom: 0;left: 50%;z-index: -1;}#sk-container-id-6 div.sk-parallel-item {display: flex;flex-direction: column;z-index: 1;position: relative;background-color: white;}#sk-container-id-6 div.sk-parallel-item:first-child::after {align-self: flex-end;width: 50%;}#sk-container-id-6 div.sk-parallel-item:last-child::after {align-self: flex-start;width: 50%;}#sk-container-id-6 div.sk-parallel-item:only-child::after {width: 0;}#sk-container-id-6 div.sk-dashed-wrapped {border: 1px dashed gray;margin: 0 0.4em 0.5em 0.4em;box-sizing: border-box;padding-bottom: 0.4em;background-color: white;}#sk-container-id-6 div.sk-label label {font-family: monospace;font-weight: bold;display: inline-block;line-height: 1.2em;}#sk-container-id-6 div.sk-label-container {text-align: center;}#sk-container-id-6 div.sk-container {/* jupyter's `normalize.less` sets `[hidden] { display: none; }` but bootstrap.min.css set `[hidden] { display: none !important; }` so we also need the `!important` here to be able to override the default hidden behavior on the sphinx rendered scikit-learn.org. See: https://github.com/scikit-learn/scikit-learn/issues/21755 */display: inline-block !important;position: relative;}#sk-container-id-6 div.sk-text-repr-fallback {display: none;}</style><div id=\"sk-container-id-6\" class=\"sk-top-container\"><div class=\"sk-text-repr-fallback\"><pre>Pipeline(steps=[(&#x27;scaler&#x27;, StandardScaler()),\n",
       "                (&#x27;sgd&#x27;,\n",
       "                 SGDClassifier(alpha=0.009368071103349671,\n",
       "                               l1_ratio=0.455607493192275, loss=&#x27;log_loss&#x27;,\n",
       "                               random_state=23, shuffle=False))])</pre><b>In a Jupyter environment, please rerun this cell to show the HTML representation or trust the notebook. <br />On GitHub, the HTML representation is unable to render, please try loading this page with nbviewer.org.</b></div><div class=\"sk-container\" hidden><div class=\"sk-item sk-dashed-wrapped\"><div class=\"sk-label-container\"><div class=\"sk-label sk-toggleable\"><input class=\"sk-toggleable__control sk-hidden--visually\" id=\"sk-estimator-id-14\" type=\"checkbox\" ><label for=\"sk-estimator-id-14\" class=\"sk-toggleable__label sk-toggleable__label-arrow\">Pipeline</label><div class=\"sk-toggleable__content\"><pre>Pipeline(steps=[(&#x27;scaler&#x27;, StandardScaler()),\n",
       "                (&#x27;sgd&#x27;,\n",
       "                 SGDClassifier(alpha=0.009368071103349671,\n",
       "                               l1_ratio=0.455607493192275, loss=&#x27;log_loss&#x27;,\n",
       "                               random_state=23, shuffle=False))])</pre></div></div></div><div class=\"sk-serial\"><div class=\"sk-item\"><div class=\"sk-estimator sk-toggleable\"><input class=\"sk-toggleable__control sk-hidden--visually\" id=\"sk-estimator-id-15\" type=\"checkbox\" ><label for=\"sk-estimator-id-15\" class=\"sk-toggleable__label sk-toggleable__label-arrow\">StandardScaler</label><div class=\"sk-toggleable__content\"><pre>StandardScaler()</pre></div></div></div><div class=\"sk-item\"><div class=\"sk-estimator sk-toggleable\"><input class=\"sk-toggleable__control sk-hidden--visually\" id=\"sk-estimator-id-16\" type=\"checkbox\" ><label for=\"sk-estimator-id-16\" class=\"sk-toggleable__label sk-toggleable__label-arrow\">SGDClassifier</label><div class=\"sk-toggleable__content\"><pre>SGDClassifier(alpha=0.009368071103349671, l1_ratio=0.455607493192275,\n",
       "              loss=&#x27;log_loss&#x27;, random_state=23, shuffle=False)</pre></div></div></div></div></div></div></div>"
      ],
      "text/plain": [
       "Pipeline(steps=[('scaler', StandardScaler()),\n",
       "                ('sgd',\n",
       "                 SGDClassifier(alpha=0.009368071103349671,\n",
       "                               l1_ratio=0.455607493192275, loss='log_loss',\n",
       "                               random_state=23, shuffle=False))])"
      ]
     },
     "execution_count": 57,
     "metadata": {},
     "output_type": "execute_result"
    }
   ],
   "source": [
    "lgbc.fit(X_train, y_train)\n",
    "sgd_hinge.fit(X_train, y_train)\n",
    "sgd_logloss.fit(X_train, y_train)"
   ]
  },
  {
   "cell_type": "code",
   "execution_count": 64,
   "metadata": {},
   "outputs": [
    {
     "data": {
      "text/plain": [
       "(6141, 6)"
      ]
     },
     "execution_count": 64,
     "metadata": {},
     "output_type": "execute_result"
    }
   ],
   "source": []
  },
  {
   "cell_type": "code",
   "execution_count": 65,
   "metadata": {},
   "outputs": [
    {
     "data": {
      "text/html": [
       "<div>\n",
       "<style scoped>\n",
       "    .dataframe tbody tr th:only-of-type {\n",
       "        vertical-align: middle;\n",
       "    }\n",
       "\n",
       "    .dataframe tbody tr th {\n",
       "        vertical-align: top;\n",
       "    }\n",
       "\n",
       "    .dataframe thead th {\n",
       "        text-align: right;\n",
       "    }\n",
       "</style>\n",
       "<table border=\"1\" class=\"dataframe\">\n",
       "  <thead>\n",
       "    <tr style=\"text-align: right;\">\n",
       "      <th></th>\n",
       "      <th>0</th>\n",
       "      <th>1</th>\n",
       "      <th>2</th>\n",
       "      <th>3</th>\n",
       "      <th>4</th>\n",
       "      <th>5</th>\n",
       "    </tr>\n",
       "  </thead>\n",
       "  <tbody>\n",
       "    <tr>\n",
       "      <th>0</th>\n",
       "      <td>0.781840</td>\n",
       "      <td>0.218160</td>\n",
       "      <td>-2.115541</td>\n",
       "      <td>0.917376</td>\n",
       "      <td>0.082624</td>\n",
       "      <td>0.0</td>\n",
       "    </tr>\n",
       "    <tr>\n",
       "      <th>1</th>\n",
       "      <td>0.594992</td>\n",
       "      <td>0.405008</td>\n",
       "      <td>0.832013</td>\n",
       "      <td>0.396868</td>\n",
       "      <td>0.603132</td>\n",
       "      <td>1.0</td>\n",
       "    </tr>\n",
       "    <tr>\n",
       "      <th>2</th>\n",
       "      <td>0.737293</td>\n",
       "      <td>0.262707</td>\n",
       "      <td>-1.070229</td>\n",
       "      <td>0.697020</td>\n",
       "      <td>0.302980</td>\n",
       "      <td>1.0</td>\n",
       "    </tr>\n",
       "    <tr>\n",
       "      <th>3</th>\n",
       "      <td>0.139505</td>\n",
       "      <td>0.860495</td>\n",
       "      <td>4.345256</td>\n",
       "      <td>0.012195</td>\n",
       "      <td>0.987805</td>\n",
       "      <td>1.0</td>\n",
       "    </tr>\n",
       "    <tr>\n",
       "      <th>4</th>\n",
       "      <td>0.439899</td>\n",
       "      <td>0.560101</td>\n",
       "      <td>0.868259</td>\n",
       "      <td>0.270190</td>\n",
       "      <td>0.729810</td>\n",
       "      <td>0.0</td>\n",
       "    </tr>\n",
       "    <tr>\n",
       "      <th>...</th>\n",
       "      <td>...</td>\n",
       "      <td>...</td>\n",
       "      <td>...</td>\n",
       "      <td>...</td>\n",
       "      <td>...</td>\n",
       "      <td>...</td>\n",
       "    </tr>\n",
       "    <tr>\n",
       "      <th>6136</th>\n",
       "      <td>0.623667</td>\n",
       "      <td>0.376333</td>\n",
       "      <td>-0.934718</td>\n",
       "      <td>0.746453</td>\n",
       "      <td>0.253547</td>\n",
       "      <td>1.0</td>\n",
       "    </tr>\n",
       "    <tr>\n",
       "      <th>6137</th>\n",
       "      <td>0.410235</td>\n",
       "      <td>0.589765</td>\n",
       "      <td>0.864563</td>\n",
       "      <td>0.323944</td>\n",
       "      <td>0.676056</td>\n",
       "      <td>1.0</td>\n",
       "    </tr>\n",
       "    <tr>\n",
       "      <th>6138</th>\n",
       "      <td>0.491780</td>\n",
       "      <td>0.508220</td>\n",
       "      <td>0.866656</td>\n",
       "      <td>0.297271</td>\n",
       "      <td>0.702729</td>\n",
       "      <td>1.0</td>\n",
       "    </tr>\n",
       "    <tr>\n",
       "      <th>6139</th>\n",
       "      <td>0.347287</td>\n",
       "      <td>0.652713</td>\n",
       "      <td>0.044264</td>\n",
       "      <td>0.515413</td>\n",
       "      <td>0.484587</td>\n",
       "      <td>0.0</td>\n",
       "    </tr>\n",
       "    <tr>\n",
       "      <th>6140</th>\n",
       "      <td>0.467848</td>\n",
       "      <td>0.532152</td>\n",
       "      <td>1.029663</td>\n",
       "      <td>0.279773</td>\n",
       "      <td>0.720227</td>\n",
       "      <td>1.0</td>\n",
       "    </tr>\n",
       "  </tbody>\n",
       "</table>\n",
       "<p>6141 rows × 6 columns</p>\n",
       "</div>"
      ],
      "text/plain": [
       "             0         1         2         3         4    5\n",
       "0     0.781840  0.218160 -2.115541  0.917376  0.082624  0.0\n",
       "1     0.594992  0.405008  0.832013  0.396868  0.603132  1.0\n",
       "2     0.737293  0.262707 -1.070229  0.697020  0.302980  1.0\n",
       "3     0.139505  0.860495  4.345256  0.012195  0.987805  1.0\n",
       "4     0.439899  0.560101  0.868259  0.270190  0.729810  0.0\n",
       "...        ...       ...       ...       ...       ...  ...\n",
       "6136  0.623667  0.376333 -0.934718  0.746453  0.253547  1.0\n",
       "6137  0.410235  0.589765  0.864563  0.323944  0.676056  1.0\n",
       "6138  0.491780  0.508220  0.866656  0.297271  0.702729  1.0\n",
       "6139  0.347287  0.652713  0.044264  0.515413  0.484587  0.0\n",
       "6140  0.467848  0.532152  1.029663  0.279773  0.720227  1.0\n",
       "\n",
       "[6141 rows x 6 columns]"
      ]
     },
     "execution_count": 65,
     "metadata": {},
     "output_type": "execute_result"
    }
   ],
   "source": [
    "pd.DataFrame(cross_val_predict)"
   ]
  },
  {
   "cell_type": "code",
   "execution_count": 66,
   "metadata": {},
   "outputs": [
    {
     "data": {
      "text/html": [
       "<style>#sk-container-id-7 {color: black;background-color: white;}#sk-container-id-7 pre{padding: 0;}#sk-container-id-7 div.sk-toggleable {background-color: white;}#sk-container-id-7 label.sk-toggleable__label {cursor: pointer;display: block;width: 100%;margin-bottom: 0;padding: 0.3em;box-sizing: border-box;text-align: center;}#sk-container-id-7 label.sk-toggleable__label-arrow:before {content: \"▸\";float: left;margin-right: 0.25em;color: #696969;}#sk-container-id-7 label.sk-toggleable__label-arrow:hover:before {color: black;}#sk-container-id-7 div.sk-estimator:hover label.sk-toggleable__label-arrow:before {color: black;}#sk-container-id-7 div.sk-toggleable__content {max-height: 0;max-width: 0;overflow: hidden;text-align: left;background-color: #f0f8ff;}#sk-container-id-7 div.sk-toggleable__content pre {margin: 0.2em;color: black;border-radius: 0.25em;background-color: #f0f8ff;}#sk-container-id-7 input.sk-toggleable__control:checked~div.sk-toggleable__content {max-height: 200px;max-width: 100%;overflow: auto;}#sk-container-id-7 input.sk-toggleable__control:checked~label.sk-toggleable__label-arrow:before {content: \"▾\";}#sk-container-id-7 div.sk-estimator input.sk-toggleable__control:checked~label.sk-toggleable__label {background-color: #d4ebff;}#sk-container-id-7 div.sk-label input.sk-toggleable__control:checked~label.sk-toggleable__label {background-color: #d4ebff;}#sk-container-id-7 input.sk-hidden--visually {border: 0;clip: rect(1px 1px 1px 1px);clip: rect(1px, 1px, 1px, 1px);height: 1px;margin: -1px;overflow: hidden;padding: 0;position: absolute;width: 1px;}#sk-container-id-7 div.sk-estimator {font-family: monospace;background-color: #f0f8ff;border: 1px dotted black;border-radius: 0.25em;box-sizing: border-box;margin-bottom: 0.5em;}#sk-container-id-7 div.sk-estimator:hover {background-color: #d4ebff;}#sk-container-id-7 div.sk-parallel-item::after {content: \"\";width: 100%;border-bottom: 1px solid gray;flex-grow: 1;}#sk-container-id-7 div.sk-label:hover label.sk-toggleable__label {background-color: #d4ebff;}#sk-container-id-7 div.sk-serial::before {content: \"\";position: absolute;border-left: 1px solid gray;box-sizing: border-box;top: 0;bottom: 0;left: 50%;z-index: 0;}#sk-container-id-7 div.sk-serial {display: flex;flex-direction: column;align-items: center;background-color: white;padding-right: 0.2em;padding-left: 0.2em;position: relative;}#sk-container-id-7 div.sk-item {position: relative;z-index: 1;}#sk-container-id-7 div.sk-parallel {display: flex;align-items: stretch;justify-content: center;background-color: white;position: relative;}#sk-container-id-7 div.sk-item::before, #sk-container-id-7 div.sk-parallel-item::before {content: \"\";position: absolute;border-left: 1px solid gray;box-sizing: border-box;top: 0;bottom: 0;left: 50%;z-index: -1;}#sk-container-id-7 div.sk-parallel-item {display: flex;flex-direction: column;z-index: 1;position: relative;background-color: white;}#sk-container-id-7 div.sk-parallel-item:first-child::after {align-self: flex-end;width: 50%;}#sk-container-id-7 div.sk-parallel-item:last-child::after {align-self: flex-start;width: 50%;}#sk-container-id-7 div.sk-parallel-item:only-child::after {width: 0;}#sk-container-id-7 div.sk-dashed-wrapped {border: 1px dashed gray;margin: 0 0.4em 0.5em 0.4em;box-sizing: border-box;padding-bottom: 0.4em;background-color: white;}#sk-container-id-7 div.sk-label label {font-family: monospace;font-weight: bold;display: inline-block;line-height: 1.2em;}#sk-container-id-7 div.sk-label-container {text-align: center;}#sk-container-id-7 div.sk-container {/* jupyter's `normalize.less` sets `[hidden] { display: none; }` but bootstrap.min.css set `[hidden] { display: none !important; }` so we also need the `!important` here to be able to override the default hidden behavior on the sphinx rendered scikit-learn.org. See: https://github.com/scikit-learn/scikit-learn/issues/21755 */display: inline-block !important;position: relative;}#sk-container-id-7 div.sk-text-repr-fallback {display: none;}</style><div id=\"sk-container-id-7\" class=\"sk-top-container\"><div class=\"sk-text-repr-fallback\"><pre>LogisticRegression()</pre><b>In a Jupyter environment, please rerun this cell to show the HTML representation or trust the notebook. <br />On GitHub, the HTML representation is unable to render, please try loading this page with nbviewer.org.</b></div><div class=\"sk-container\" hidden><div class=\"sk-item\"><div class=\"sk-estimator sk-toggleable\"><input class=\"sk-toggleable__control sk-hidden--visually\" id=\"sk-estimator-id-17\" type=\"checkbox\" checked><label for=\"sk-estimator-id-17\" class=\"sk-toggleable__label sk-toggleable__label-arrow\">LogisticRegression</label><div class=\"sk-toggleable__content\"><pre>LogisticRegression()</pre></div></div></div></div></div>"
      ],
      "text/plain": [
       "LogisticRegression()"
      ]
     },
     "execution_count": 66,
     "metadata": {},
     "output_type": "execute_result"
    }
   ],
   "source": [
    "stacking = LogisticRegression()\n",
    "\n",
    "stacking.fit(cross_val_predict[:, :-1], cross_val_predict[:, -1])"
   ]
  },
  {
   "cell_type": "code",
   "execution_count": 71,
   "metadata": {},
   "outputs": [],
   "source": [
    "stacking_preds = stacking.predict(\n",
    "    np.column_stack([\n",
    "        lgbc.predict_proba(X_test),\n",
    "        sgd_hinge.decision_function(X_test),\n",
    "        sgd_logloss.predict_proba(X_test)\n",
    "    ])\n",
    ")"
   ]
  },
  {
   "cell_type": "code",
   "execution_count": 72,
   "metadata": {},
   "outputs": [
    {
     "data": {
      "text/plain": [
       "array([0., 1., 1., ..., 0., 1., 1.])"
      ]
     },
     "execution_count": 72,
     "metadata": {},
     "output_type": "execute_result"
    }
   ],
   "source": [
    "stacking_preds"
   ]
  },
  {
   "cell_type": "code",
   "execution_count": 74,
   "metadata": {},
   "outputs": [
    {
     "data": {
      "text/plain": [
       "0.679902755267423"
      ]
     },
     "execution_count": 74,
     "metadata": {},
     "output_type": "execute_result"
    }
   ],
   "source": [
    "from sklearn.metrics import accuracy_score\n",
    "accuracy_score(stacking_preds, y_test)"
   ]
  },
  {
   "cell_type": "code",
   "execution_count": 39,
   "metadata": {},
   "outputs": [
    {
     "data": {
      "text/plain": [
       "array([ 0.23982098,  0.12697018,  0.82236713, -0.07045641])"
      ]
     },
     "execution_count": 39,
     "metadata": {},
     "output_type": "execute_result"
    }
   ],
   "source": [
    "stacking.coef_[0]"
   ]
  },
  {
   "cell_type": "code",
   "execution_count": null,
   "metadata": {},
   "outputs": [],
   "source": []
  }
 ],
 "metadata": {
  "kernelspec": {
   "display_name": "Python 3.9.13 ('nba-model-venv': venv)",
   "language": "python",
   "name": "python3"
  },
  "language_info": {
   "codemirror_mode": {
    "name": "ipython",
    "version": 3
   },
   "file_extension": ".py",
   "mimetype": "text/x-python",
   "name": "python",
   "nbconvert_exporter": "python",
   "pygments_lexer": "ipython3",
   "version": "3.9.13"
  },
  "orig_nbformat": 4,
  "vscode": {
   "interpreter": {
    "hash": "afed4e3e0de72dfe896065169312871c2edc1b77c10ac917e4bc0d2d23ff8bb0"
   }
  }
 },
 "nbformat": 4,
 "nbformat_minor": 2
}
